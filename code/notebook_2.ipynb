{
 "cells": [
  {
   "cell_type": "markdown",
   "id": "057a2968-d3f1-4fbc-8c23-4443ea2afa05",
   "metadata": {},
   "source": [
    "<img src=\"http://imgur.com/1ZcRyrc.png\" style=\"float: left; margin: 20px; height: 55px\">\n",
    "\n",
    "# Project 3: Web APIs & NLP"
   ]
  },
  {
   "cell_type": "markdown",
   "id": "59663708-f9e3-45c9-b128-cf28ac532515",
   "metadata": {},
   "source": [
    "---"
   ]
  },
  {
   "cell_type": "markdown",
   "id": "b2816082-a881-473d-bc87-c7c5a0432339",
   "metadata": {},
   "source": [
    "Notebook 1: Data Collection and Export<br>\n",
    "**Notebook 2: Cleaning, Preprocessing and EDA**<br>\n",
    "Notebook 3: Model Selection\n",
    "---"
   ]
  },
  {
   "cell_type": "code",
   "execution_count": 1,
   "id": "35cd0ec4-dbe9-4114-8cf7-d2ed62053aa5",
   "metadata": {},
   "outputs": [],
   "source": [
    "# Imports\n",
    "import pandas as pd\n",
    "import numpy as np\n",
    "import matplotlib.pyplot as plt\n",
    "import seaborn as sns\n",
    "import regex as re\n",
    "\n",
    "from nltk.tokenize import RegexpTokenizer, word_tokenize\n",
    "from nltk.corpus import stopwords\n",
    "from nltk.stem import WordNetLemmatizer\n",
    "from sklearn.feature_extraction.text import CountVectorizer, TfidfVectorizer\n",
    "\n",
    "import warnings\n",
    "#warnings.filterwarnings(\"ignore\")"
   ]
  },
  {
   "cell_type": "code",
   "execution_count": 2,
   "id": "05232ec4-006b-479d-b7eb-ed1469a98050",
   "metadata": {},
   "outputs": [],
   "source": [
    "# Importing datasets from Notebook 1\n",
    "ps5_full = pd.read_csv('../datasets/ps5_full.csv', dtype='str')\n",
    "xbox_full = pd.read_csv('../datasets/xbox_full.csv', dtype='str')"
   ]
  },
  {
   "cell_type": "markdown",
   "id": "2d4361e4-2f3a-4390-9ce7-e6a95382d2e4",
   "metadata": {},
   "source": [
    "---\n",
    "## 1. Data Cleaning"
   ]
  },
  {
   "cell_type": "markdown",
   "id": "b4c192a6-0bac-418b-8a55-5e92d983a562",
   "metadata": {},
   "source": [
    "### 1.1 PS5 Dataset"
   ]
  },
  {
   "cell_type": "code",
   "execution_count": 3,
   "id": "714f1db6-a214-4465-acf1-f7dba6ae58f4",
   "metadata": {},
   "outputs": [
    {
     "name": "stdout",
     "output_type": "stream",
     "text": [
      "(14986, 2)\n"
     ]
    },
    {
     "data": {
      "text/html": [
       "<div>\n",
       "<style scoped>\n",
       "    .dataframe tbody tr th:only-of-type {\n",
       "        vertical-align: middle;\n",
       "    }\n",
       "\n",
       "    .dataframe tbody tr th {\n",
       "        vertical-align: top;\n",
       "    }\n",
       "\n",
       "    .dataframe thead th {\n",
       "        text-align: right;\n",
       "    }\n",
       "</style>\n",
       "<table border=\"1\" class=\"dataframe\">\n",
       "  <thead>\n",
       "    <tr style=\"text-align: right;\">\n",
       "      <th></th>\n",
       "      <th>subreddit</th>\n",
       "      <th>title</th>\n",
       "    </tr>\n",
       "  </thead>\n",
       "  <tbody>\n",
       "    <tr>\n",
       "      <th>0</th>\n",
       "      <td>PS5</td>\n",
       "      <td>How did yall get your ps5s?</td>\n",
       "    </tr>\n",
       "    <tr>\n",
       "      <th>1</th>\n",
       "      <td>PS5</td>\n",
       "      <td>PS5 Horizon Bundle still in stock on PS Direct</td>\n",
       "    </tr>\n",
       "    <tr>\n",
       "      <th>2</th>\n",
       "      <td>PS5</td>\n",
       "      <td>Ps5 doesn’t work</td>\n",
       "    </tr>\n",
       "    <tr>\n",
       "      <th>3</th>\n",
       "      <td>PS5</td>\n",
       "      <td>VRR support for HDMI 1.4...</td>\n",
       "    </tr>\n",
       "    <tr>\n",
       "      <th>4</th>\n",
       "      <td>PS5</td>\n",
       "      <td>Slow download speeds?</td>\n",
       "    </tr>\n",
       "  </tbody>\n",
       "</table>\n",
       "</div>"
      ],
      "text/plain": [
       "  subreddit                                           title\n",
       "0       PS5                     How did yall get your ps5s?\n",
       "1       PS5  PS5 Horizon Bundle still in stock on PS Direct\n",
       "2       PS5                                Ps5 doesn’t work\n",
       "3       PS5                     VRR support for HDMI 1.4...\n",
       "4       PS5                           Slow download speeds?"
      ]
     },
     "execution_count": 3,
     "metadata": {},
     "output_type": "execute_result"
    }
   ],
   "source": [
    "# Keeping just the 2 main columns\n",
    "ps5 = ps5_full[['subreddit','title']]\n",
    "print(ps5.shape)\n",
    "ps5.head()"
   ]
  },
  {
   "cell_type": "code",
   "execution_count": 4,
   "id": "e048284a-8100-4bc8-82d2-345ed8bf5fb9",
   "metadata": {},
   "outputs": [
    {
     "name": "stdout",
     "output_type": "stream",
     "text": [
      "<class 'pandas.core.frame.DataFrame'>\n",
      "RangeIndex: 14986 entries, 0 to 14985\n",
      "Data columns (total 2 columns):\n",
      " #   Column     Non-Null Count  Dtype \n",
      "---  ------     --------------  ----- \n",
      " 0   subreddit  14986 non-null  object\n",
      " 1   title      14986 non-null  object\n",
      "dtypes: object(2)\n",
      "memory usage: 234.3+ KB\n"
     ]
    }
   ],
   "source": [
    "# Checking for null values\n",
    "ps5.info()"
   ]
  },
  {
   "cell_type": "markdown",
   "id": "50bb031e-c7d2-4776-b98c-ea780ad8ef91",
   "metadata": {},
   "source": [
    "### 1.2 Xbox Dataset"
   ]
  },
  {
   "cell_type": "code",
   "execution_count": 5,
   "id": "d80d1284-084d-45aa-a1e2-893301323b39",
   "metadata": {},
   "outputs": [
    {
     "name": "stdout",
     "output_type": "stream",
     "text": [
      "(14996, 2)\n"
     ]
    },
    {
     "data": {
      "text/html": [
       "<div>\n",
       "<style scoped>\n",
       "    .dataframe tbody tr th:only-of-type {\n",
       "        vertical-align: middle;\n",
       "    }\n",
       "\n",
       "    .dataframe tbody tr th {\n",
       "        vertical-align: top;\n",
       "    }\n",
       "\n",
       "    .dataframe thead th {\n",
       "        text-align: right;\n",
       "    }\n",
       "</style>\n",
       "<table border=\"1\" class=\"dataframe\">\n",
       "  <thead>\n",
       "    <tr style=\"text-align: right;\">\n",
       "      <th></th>\n",
       "      <th>subreddit</th>\n",
       "      <th>title</th>\n",
       "    </tr>\n",
       "  </thead>\n",
       "  <tbody>\n",
       "    <tr>\n",
       "      <th>0</th>\n",
       "      <td>XboxSeriesX</td>\n",
       "      <td>anyone know how to fix this?</td>\n",
       "    </tr>\n",
       "    <tr>\n",
       "      <th>1</th>\n",
       "      <td>XboxSeriesX</td>\n",
       "      <td>Resident Evil Disc</td>\n",
       "    </tr>\n",
       "    <tr>\n",
       "      <th>2</th>\n",
       "      <td>XboxSeriesX</td>\n",
       "      <td>Xbox has released a teaser for their fictional...</td>\n",
       "    </tr>\n",
       "    <tr>\n",
       "      <th>3</th>\n",
       "      <td>XboxSeriesX</td>\n",
       "      <td>!!!</td>\n",
       "    </tr>\n",
       "    <tr>\n",
       "      <th>4</th>\n",
       "      <td>XboxSeriesX</td>\n",
       "      <td>I'm finally getting a 4k TV what do I install?</td>\n",
       "    </tr>\n",
       "  </tbody>\n",
       "</table>\n",
       "</div>"
      ],
      "text/plain": [
       "     subreddit                                              title\n",
       "0  XboxSeriesX                       anyone know how to fix this?\n",
       "1  XboxSeriesX                                 Resident Evil Disc\n",
       "2  XboxSeriesX  Xbox has released a teaser for their fictional...\n",
       "3  XboxSeriesX                                                !!!\n",
       "4  XboxSeriesX     I'm finally getting a 4k TV what do I install?"
      ]
     },
     "execution_count": 5,
     "metadata": {},
     "output_type": "execute_result"
    }
   ],
   "source": [
    "# Keeping just the 2 main columns\n",
    "xbox = xbox_full[['subreddit','title']]\n",
    "print(xbox.shape)\n",
    "xbox.head()"
   ]
  },
  {
   "cell_type": "code",
   "execution_count": 6,
   "id": "546888fe-110c-4524-a8d4-2cdb3db3dfac",
   "metadata": {},
   "outputs": [
    {
     "name": "stdout",
     "output_type": "stream",
     "text": [
      "<class 'pandas.core.frame.DataFrame'>\n",
      "RangeIndex: 14996 entries, 0 to 14995\n",
      "Data columns (total 2 columns):\n",
      " #   Column     Non-Null Count  Dtype \n",
      "---  ------     --------------  ----- \n",
      " 0   subreddit  14996 non-null  object\n",
      " 1   title      14996 non-null  object\n",
      "dtypes: object(2)\n",
      "memory usage: 234.4+ KB\n"
     ]
    }
   ],
   "source": [
    "# Checking for null values\n",
    "xbox.info()"
   ]
  },
  {
   "cell_type": "markdown",
   "id": "3ca3d20d-c507-45d5-bf2e-f2994befa451",
   "metadata": {},
   "source": [
    "---\n",
    "## 2. Preliminary EDA"
   ]
  },
  {
   "cell_type": "markdown",
   "id": "15675953-c08f-4cff-b9a9-b6b81cba8bac",
   "metadata": {},
   "source": [
    "### 2.1 Title Length"
   ]
  },
  {
   "cell_type": "code",
   "execution_count": 7,
   "id": "742a2060-83f1-41c1-8bd1-085f2efb4f4d",
   "metadata": {},
   "outputs": [
    {
     "data": {
      "image/png": "[encoded data removed]",
      "text/plain": [
       "<Figure size 1008x504 with 2 Axes>"
      ]
     },
     "metadata": {
      "needs_background": "light"
     },
     "output_type": "display_data"
    }
   ],
   "source": [
    "# Establish figure size.\n",
    "plt.figure(figsize = (14,7))\n",
    "\n",
    "ax1 = plt.subplot(1, 2, 1)\n",
    "ax1.set_title('PS5 Title Length', fontsize = 20)\n",
    "ax1.hist(ps5['title'].str.len(), bins=50, color='lightsteelblue');\n",
    "\n",
    "ax2 = plt.subplot(1, 2, 2, sharex = ax1, sharey = ax1)\n",
    "ax2.set_title('Xbox Title length', fontsize = 20)\n",
    "ax2.hist(xbox['title'].str.len(), bins=50, color='mediumaquamarine');\n",
    "\n",
    "plt.tight_layout()"
   ]
  },
  {
   "cell_type": "markdown",
   "id": "a33b24b6-1fdf-4076-b7b9-af10453e4458",
   "metadata": {},
   "source": [
    "From the histograms, we can see that most titles contain 150 characters and below. We will plot a boxplot to explore this further. The PS5 title length graph doesn't start from 0 as there is a minimum character count required during post creation."
   ]
  },
  {
   "cell_type": "code",
   "execution_count": 8,
   "id": "63f3ce64-6a15-4ce2-8f7e-47b5af3799a1",
   "metadata": {},
   "outputs": [
    {
     "data": {
      "image/png": "[encoded data removed]",
      "text/plain": [
       "<Figure size 1152x576 with 1 Axes>"
      ]
     },
     "metadata": {
      "needs_background": "light"
     },
     "output_type": "display_data"
    }
   ],
   "source": [
    "# Boxplot of both datasets\n",
    "plt.figure(figsize = (16,8))\n",
    "data = [ps5['title'].str.len(),xbox['title'].str.len()]\n",
    "sns.boxplot(data=data, palette=\"light:#5A9\").set(title='Boxplot of Word Count - PS5 vs Xbox');"
   ]
  },
  {
   "cell_type": "markdown",
   "id": "c5ab810d-1597-44f2-ac31-b94ab8bb389c",
   "metadata": {},
   "source": [
    "Ftom the above plots, we can conclude that are no obvious outliers that need to be removed."
   ]
  },
  {
   "cell_type": "markdown",
   "id": "5ecc0b39-537b-4eef-a90f-a916ff2579b9",
   "metadata": {},
   "source": [
    "### 2.2 Top Unigrams"
   ]
  },
  {
   "cell_type": "markdown",
   "id": "19245988-0e52-4456-b8ba-8456fc064ad8",
   "metadata": {
    "tags": []
   },
   "source": [
    "#### 2.2.1 PS5"
   ]
  },
  {
   "cell_type": "code",
   "execution_count": 9,
   "id": "3d20a8b8-5f41-4221-ba6b-e88964256b08",
   "metadata": {},
   "outputs": [],
   "source": [
    "# Instantiate CountVectorizer\n",
    "cvec = CountVectorizer(stop_words = 'english',ngram_range=(1,1))\n",
    "\n",
    "# Fitting and transforming\n",
    "ps5_cvec = cvec.fit_transform(ps5['title'])\n",
    "\n",
    "# Converting results into a dataFrame\n",
    "ps5_unigram = pd.DataFrame(ps5_cvec.toarray(),columns=cvec.get_feature_names_out())\n",
    "\n",
    "# Identifying top 15 occurring unigrams\n",
    "ps5_top_unigram = ps5_unigram.sum().sort_values(ascending=False).head(15)"
   ]
  },
  {
   "cell_type": "code",
   "execution_count": 10,
   "id": "321a4579-a4c3-481c-82fd-01a4f38d8e1d",
   "metadata": {},
   "outputs": [
    {
     "data": {
      "image/png": "[encoded data removed]",
      "text/plain": [
       "<Figure size 720x360 with 1 Axes>"
      ]
     },
     "metadata": {
      "needs_background": "light"
     },
     "output_type": "display_data"
    }
   ],
   "source": [
    "# Plotting barplot to visualize results\n",
    "plt.figure(figsize = (10,5))\n",
    "sns.barplot(x=ps5_top_unigram.values, y=ps5_top_unigram.index, palette='crest').set(title='Top Unigrams - PS5');"
   ]
  },
  {
   "cell_type": "markdown",
   "id": "e94978e8-d51a-47d4-819d-d1590fd217d4",
   "metadata": {
    "tags": []
   },
   "source": [
    "#### 2.2.2 Xbox"
   ]
  },
  {
   "cell_type": "code",
   "execution_count": 11,
   "id": "50224dc1-7a5a-445e-994a-2f56269ea298",
   "metadata": {},
   "outputs": [],
   "source": [
    "# Repeating above steps for Xbox dataset\n",
    "cvec = CountVectorizer(stop_words = 'english',ngram_range=(1,1))\n",
    "xbox_cvec = cvec.fit_transform(xbox['title'])\n",
    "xbox_unigram = pd.DataFrame(xbox_cvec.toarray(),columns=cvec.get_feature_names_out())\n",
    "xbox_top_unigram = xbox_unigram.sum().sort_values(ascending=False).head(15)"
   ]
  },
  {
   "cell_type": "code",
   "execution_count": 12,
   "id": "d0b78840-dfba-4517-9388-530a23d0c406",
   "metadata": {},
   "outputs": [
    {
     "data": {
      "image/png": "[encoded data removed]",
      "text/plain": [
       "<Figure size 720x360 with 1 Axes>"
      ]
     },
     "metadata": {
      "needs_background": "light"
     },
     "output_type": "display_data"
    }
   ],
   "source": [
    "# Plotting barplot to visualize results\n",
    "plt.figure(figsize = (10,5))\n",
    "sns.barplot(x=xbox_top_unigram.values, y=xbox_top_unigram.index, palette='flare').set(title='Top Unigrams - Xbox');"
   ]
  },
  {
   "cell_type": "markdown",
   "id": "e3b6d3a4-4a5e-4c8e-a058-46a1834035e4",
   "metadata": {},
   "source": [
    "The top occurring unigrams for both datasets contain some common words like `game`, `games`, `controller` and `play`. Other top unigrams include the company name, console name and subscription service."
   ]
  },
  {
   "cell_type": "markdown",
   "id": "285fefaf-b991-4ce5-aac8-761ea189ef4f",
   "metadata": {},
   "source": [
    "### 2.3 Top Bigrams"
   ]
  },
  {
   "cell_type": "markdown",
   "id": "f2afcd25-fc6c-472f-b471-4a54320d1115",
   "metadata": {
    "tags": []
   },
   "source": [
    "#### 2.3.1 PS5"
   ]
  },
  {
   "cell_type": "code",
   "execution_count": 13,
   "id": "d516ab14-b344-4bbf-8f59-b268f437cd6f",
   "metadata": {},
   "outputs": [],
   "source": [
    "# Instantiate CountVectorizer \n",
    "cvec = CountVectorizer(stop_words = 'english',ngram_range=(2,2))\n",
    "\n",
    "# Fitting and transforming\n",
    "ps5_cvec = cvec.fit_transform(ps5['title'])\n",
    "\n",
    "# Converting results into a dataFrame\n",
    "ps5_bigram = pd.DataFrame(ps5_cvec.toarray(),columns=cvec.get_feature_names_out())\n",
    "\n",
    "# Identifying top 15 bigrams\n",
    "ps5_top_bigram = ps5_bigram.sum().sort_values(ascending=False).head(15)"
   ]
  },
  {
   "cell_type": "code",
   "execution_count": 14,
   "id": "410d5c62-fa16-4b3c-9c88-497503b48462",
   "metadata": {},
   "outputs": [
    {
     "data": {
      "image/png": "[encoded data removed]",
      "text/plain": [
       "<Figure size 720x360 with 1 Axes>"
      ]
     },
     "metadata": {
      "needs_background": "light"
     },
     "output_type": "display_data"
    }
   ],
   "source": [
    "# Plotting barplot to visualize results\n",
    "plt.figure(figsize = (10,5))\n",
    "sns.barplot(x=ps5_top_bigram.values, y=ps5_top_bigram.index, palette='crest').set(title='Top Bigrams - PS5');"
   ]
  },
  {
   "cell_type": "markdown",
   "id": "d3da726a-adaf-4cc7-bdc6-33c98fe95ca3",
   "metadata": {
    "tags": []
   },
   "source": [
    "#### 2.3.2 Xbox"
   ]
  },
  {
   "cell_type": "code",
   "execution_count": 15,
   "id": "8e1ebe61-fe30-470a-adf4-30711332e8e3",
   "metadata": {},
   "outputs": [],
   "source": [
    "# Repeating steps for Xbox dataset\n",
    "cvec = CountVectorizer(stop_words = 'english',ngram_range=(2,2))\n",
    "xbox_cvec = cvec.fit_transform(xbox['title'])\n",
    "xbox_bigram = pd.DataFrame(xbox_cvec.toarray(),columns=cvec.get_feature_names_out())\n",
    "xbox_top_bigram = xbox_bigram.sum().sort_values(ascending=False).head(15)"
   ]
  },
  {
   "cell_type": "code",
   "execution_count": 16,
   "id": "5ddc7b21-e4bd-40c8-b06b-f1893e41dc4c",
   "metadata": {},
   "outputs": [
    {
     "data": {
      "image/png": "[encoded data removed]",
      "text/plain": [
       "<Figure size 720x360 with 1 Axes>"
      ]
     },
     "metadata": {
      "needs_background": "light"
     },
     "output_type": "display_data"
    }
   ],
   "source": [
    "# Plotting barplot to visualize results\n",
    "plt.figure(figsize = (10,5))\n",
    "sns.barplot(x=xbox_top_bigram.values, y=xbox_top_bigram.index, palette='flare').set(title='Top Bigrams - Xbox');"
   ]
  },
  {
   "cell_type": "markdown",
   "id": "c81060ea-62f6-4487-8452-27655bb4c555",
   "metadata": {},
   "source": [
    "The top bigrams are similar to the top unigrams, but also appear to give more specific information on the most mentioned games of each console. It is worth noting that `Elden Ring` is the only game that appears in both bar plots, and is also the most mentioned game in both subreddits."
   ]
  },
  {
   "cell_type": "markdown",
   "id": "84c74dac-e549-4d92-acc8-60721edbee37",
   "metadata": {},
   "source": [
    "### 2.4 Distribution of `created_utc`"
   ]
  },
  {
   "cell_type": "code",
   "execution_count": 17,
   "id": "c5c4480d-256f-427c-a78a-745c50d8b0bd",
   "metadata": {},
   "outputs": [],
   "source": [
    "# Preparing data to plot\n",
    "ps5_created = ps5_full[['subreddit','created_utc']]\n",
    "xbox_created = xbox_full[['subreddit','created_utc']]\n",
    "created = pd.concat([ps5_created, xbox_created],ignore_index=True)"
   ]
  },
  {
   "cell_type": "code",
   "execution_count": 18,
   "id": "fb8b5e97-8881-491f-8e55-42bb80b19171",
   "metadata": {},
   "outputs": [],
   "source": [
    "# Converting dtype of `created_utc`\n",
    "created = created.astype({'created_utc': int})"
   ]
  },
  {
   "cell_type": "code",
   "execution_count": 19,
   "id": "5613a0c2-73a3-4886-842e-934944b4e0ae",
   "metadata": {},
   "outputs": [
    {
     "data": {
      "image/png": "[encoded data removed]",
      "text/plain": [
       "<Figure size 720x360 with 1 Axes>"
      ]
     },
     "metadata": {
      "needs_background": "light"
     },
     "output_type": "display_data"
    }
   ],
   "source": [
    "# Plotting Histogram\n",
    "plt.figure(figsize = (10,5))\n",
    "ax = sns.histplot(data=created, x='created_utc', hue='subreddit', element='step', palette=\"viridis\")\n",
    "sns.move_legend(\n",
    "    ax, \"lower center\",\n",
    "    bbox_to_anchor=(0.65, 0.85), ncol=2, title=None, frameon=False,\n",
    ");\n",
    "plt.title('Histogram of Creation Date', fontsize = 16);"
   ]
  },
  {
   "cell_type": "markdown",
   "id": "917dac43-c0b9-4916-8abe-e77e5e08b5bc",
   "metadata": {},
   "source": [
    "The approximately 15,000 posts from the Xbox dataset are spread throughout a longer time period than the PS5 dataset. This shows the number of posts created per day on the PS5 subreddit is generally higher than Xbox. (Roughly 20-40% on average)"
   ]
  },
  {
   "cell_type": "markdown",
   "id": "ebaa0a28-439f-4aa4-a443-09be76b2338e",
   "metadata": {
    "tags": []
   },
   "source": [
    "---\n",
    "## 3. Preprocessing"
   ]
  },
  {
   "cell_type": "code",
   "execution_count": 20,
   "id": "2b729bb9-5e5b-4365-a662-612978cb31fe",
   "metadata": {},
   "outputs": [
    {
     "data": {
      "text/plain": [
       "(29982, 2)"
      ]
     },
     "execution_count": 20,
     "metadata": {},
     "output_type": "execute_result"
    }
   ],
   "source": [
    "# Combining both datasets\n",
    "combined = pd.concat([ps5, xbox])\n",
    "combined.shape"
   ]
  },
  {
   "cell_type": "code",
   "execution_count": 21,
   "id": "4f5132a8-a707-4350-932d-327694e3e9ac",
   "metadata": {},
   "outputs": [],
   "source": [
    "# Converting all letters into lowercase\n",
    "combined['subreddit'] = combined['subreddit'].str.lower()\n",
    "combined['title'] = combined['title'].str.lower()"
   ]
  },
  {
   "cell_type": "markdown",
   "id": "bcc7a472-7951-464e-9dce-b8a6fd8fc30a",
   "metadata": {},
   "source": [
    "### 3.1 Removing Symbols and Tokenizing"
   ]
  },
  {
   "cell_type": "code",
   "execution_count": 22,
   "id": "373e49bd-78ab-4540-bbc5-7a908fc3eab3",
   "metadata": {},
   "outputs": [],
   "source": [
    "# Removing symbols from 'title' column\n",
    "combined['title'] = combined['title'].str.lower().replace(r'[^a-z\\s]|_', '', regex=True)"
   ]
  },
  {
   "cell_type": "code",
   "execution_count": 23,
   "id": "100b58b0-6891-4509-b8a7-43bf5ce576b1",
   "metadata": {},
   "outputs": [
    {
     "name": "stdout",
     "output_type": "stream",
     "text": [
      "(29982, 2)\n"
     ]
    },
    {
     "data": {
      "text/html": [
       "<div>\n",
       "<style scoped>\n",
       "    .dataframe tbody tr th:only-of-type {\n",
       "        vertical-align: middle;\n",
       "    }\n",
       "\n",
       "    .dataframe tbody tr th {\n",
       "        vertical-align: top;\n",
       "    }\n",
       "\n",
       "    .dataframe thead th {\n",
       "        text-align: right;\n",
       "    }\n",
       "</style>\n",
       "<table border=\"1\" class=\"dataframe\">\n",
       "  <thead>\n",
       "    <tr style=\"text-align: right;\">\n",
       "      <th></th>\n",
       "      <th>subreddit</th>\n",
       "      <th>title_token</th>\n",
       "    </tr>\n",
       "  </thead>\n",
       "  <tbody>\n",
       "    <tr>\n",
       "      <th>0</th>\n",
       "      <td>ps5</td>\n",
       "      <td>[how, did, yall, get, your, pss]</td>\n",
       "    </tr>\n",
       "    <tr>\n",
       "      <th>1</th>\n",
       "      <td>ps5</td>\n",
       "      <td>[ps, horizon, bundle, still, in, stock, on, ps...</td>\n",
       "    </tr>\n",
       "    <tr>\n",
       "      <th>2</th>\n",
       "      <td>ps5</td>\n",
       "      <td>[ps, doesnt, work]</td>\n",
       "    </tr>\n",
       "    <tr>\n",
       "      <th>3</th>\n",
       "      <td>ps5</td>\n",
       "      <td>[vrr, support, for, hdmi]</td>\n",
       "    </tr>\n",
       "    <tr>\n",
       "      <th>4</th>\n",
       "      <td>ps5</td>\n",
       "      <td>[slow, download, speeds]</td>\n",
       "    </tr>\n",
       "  </tbody>\n",
       "</table>\n",
       "</div>"
      ],
      "text/plain": [
       "  subreddit                                        title_token\n",
       "0       ps5                   [how, did, yall, get, your, pss]\n",
       "1       ps5  [ps, horizon, bundle, still, in, stock, on, ps...\n",
       "2       ps5                                 [ps, doesnt, work]\n",
       "3       ps5                          [vrr, support, for, hdmi]\n",
       "4       ps5                           [slow, download, speeds]"
      ]
     },
     "execution_count": 23,
     "metadata": {},
     "output_type": "execute_result"
    }
   ],
   "source": [
    "# Tokenizing 'title' column\n",
    "combined[\"title_token\"] = combined[\"title\"].apply(word_tokenize)\n",
    "combined = combined.drop('title', axis=1)\n",
    "\n",
    "print(combined.shape)\n",
    "combined.head()"
   ]
  },
  {
   "cell_type": "markdown",
   "id": "dc9ae88d-2275-4f1c-ad7d-ae64e21c5023",
   "metadata": {},
   "source": [
    "### 3.2 Lemmatizing and Removing Stop Words"
   ]
  },
  {
   "cell_type": "code",
   "execution_count": 24,
   "id": "a063acfa-1dbd-45fa-9615-ffadcfc0e1f0",
   "metadata": {},
   "outputs": [],
   "source": [
    "# Creating a function to lemmatize and remove stop words\n",
    "def preprocess(title_token):\n",
    "    \n",
    "    # Split and lemmatize words\n",
    "    lemmatizer = WordNetLemmatizer()\n",
    "    title_token = [lemmatizer.lemmatize(i) for i in title_token]\n",
    "     \n",
    "    # Remove stop words\n",
    "    stop_words = stopwords.words('english')\n",
    "    #extra_words = ['ps4', 'ps5', 'ps5s', 'pss', 'playstation', 'xbox', 'series x', 'series', 'series s', 'https']\n",
    "    #stop_words.extend(extra_words)\n",
    "    final = [u for u in title_token if u not in stop_words]\n",
    "\n",
    "    # Combining all words \n",
    "    return (' '.join(final))"
   ]
  },
  {
   "cell_type": "markdown",
   "id": "b332ffab-b2e7-4ba7-b363-0e71e29f869e",
   "metadata": {},
   "source": [
    "Lemmatization provides better results by performing an analysis that depends on the word's part-of-speech and producing real, dictionary words."
   ]
  },
  {
   "cell_type": "code",
   "execution_count": 25,
   "id": "c3491310-9c67-4d1c-886e-c6497e3f2183",
   "metadata": {},
   "outputs": [
    {
     "data": {
      "text/html": [
       "<div>\n",
       "<style scoped>\n",
       "    .dataframe tbody tr th:only-of-type {\n",
       "        vertical-align: middle;\n",
       "    }\n",
       "\n",
       "    .dataframe tbody tr th {\n",
       "        vertical-align: top;\n",
       "    }\n",
       "\n",
       "    .dataframe thead th {\n",
       "        text-align: right;\n",
       "    }\n",
       "</style>\n",
       "<table border=\"1\" class=\"dataframe\">\n",
       "  <thead>\n",
       "    <tr style=\"text-align: right;\">\n",
       "      <th></th>\n",
       "      <th>subreddit</th>\n",
       "      <th>title_final</th>\n",
       "    </tr>\n",
       "  </thead>\n",
       "  <tbody>\n",
       "    <tr>\n",
       "      <th>0</th>\n",
       "      <td>ps5</td>\n",
       "      <td>yall get ps</td>\n",
       "    </tr>\n",
       "    <tr>\n",
       "      <th>1</th>\n",
       "      <td>ps5</td>\n",
       "      <td>p horizon bundle still stock p direct</td>\n",
       "    </tr>\n",
       "    <tr>\n",
       "      <th>2</th>\n",
       "      <td>ps5</td>\n",
       "      <td>p doesnt work</td>\n",
       "    </tr>\n",
       "    <tr>\n",
       "      <th>3</th>\n",
       "      <td>ps5</td>\n",
       "      <td>vrr support hdmi</td>\n",
       "    </tr>\n",
       "    <tr>\n",
       "      <th>4</th>\n",
       "      <td>ps5</td>\n",
       "      <td>slow download speed</td>\n",
       "    </tr>\n",
       "    <tr>\n",
       "      <th>...</th>\n",
       "      <td>...</td>\n",
       "      <td>...</td>\n",
       "    </tr>\n",
       "    <tr>\n",
       "      <th>14991</th>\n",
       "      <td>xboxseriesx</td>\n",
       "      <td>disc working</td>\n",
       "    </tr>\n",
       "    <tr>\n",
       "      <th>14992</th>\n",
       "      <td>xboxseriesx</td>\n",
       "      <td>im looking buying series x dont internet still...</td>\n",
       "    </tr>\n",
       "    <tr>\n",
       "      <th>14993</th>\n",
       "      <td>xboxseriesx</td>\n",
       "      <td>dog tipped series x im probably irreversibally...</td>\n",
       "    </tr>\n",
       "    <tr>\n",
       "      <th>14994</th>\n",
       "      <td>xboxseriesx</td>\n",
       "      <td>anyone xsx alienware awh</td>\n",
       "    </tr>\n",
       "    <tr>\n",
       "      <th>14995</th>\n",
       "      <td>xboxseriesx</td>\n",
       "      <td>crash bandicoot microsoft exclusive making kid...</td>\n",
       "    </tr>\n",
       "  </tbody>\n",
       "</table>\n",
       "<p>29982 rows × 2 columns</p>\n",
       "</div>"
      ],
      "text/plain": [
       "         subreddit                                        title_final\n",
       "0              ps5                                        yall get ps\n",
       "1              ps5              p horizon bundle still stock p direct\n",
       "2              ps5                                      p doesnt work\n",
       "3              ps5                                   vrr support hdmi\n",
       "4              ps5                                slow download speed\n",
       "...            ...                                                ...\n",
       "14991  xboxseriesx                                       disc working\n",
       "14992  xboxseriesx  im looking buying series x dont internet still...\n",
       "14993  xboxseriesx  dog tipped series x im probably irreversibally...\n",
       "14994  xboxseriesx                           anyone xsx alienware awh\n",
       "14995  xboxseriesx  crash bandicoot microsoft exclusive making kid...\n",
       "\n",
       "[29982 rows x 2 columns]"
      ]
     },
     "execution_count": 25,
     "metadata": {},
     "output_type": "execute_result"
    }
   ],
   "source": [
    "# Implementing function and droppping 'title_token' column\n",
    "combined['title_final'] = combined['title_token'].map(preprocess)\n",
    "combined = combined.drop('title_token', axis=1)\n",
    "combined"
   ]
  },
  {
   "cell_type": "code",
   "execution_count": 26,
   "id": "3a0f8792-1fbd-4c71-a85b-6be6a8ab8b28",
   "metadata": {},
   "outputs": [],
   "source": [
    "# Exporting combined dataset\n",
    "combined.to_csv('../datasets/combined.csv', index=False)"
   ]
  },
  {
   "cell_type": "markdown",
   "id": "5521bf7d-8a2d-41a6-90f2-929c025b04db",
   "metadata": {},
   "source": [
    "### 3.3 Top Unigrams After Preprocessing"
   ]
  },
  {
   "cell_type": "code",
   "execution_count": 27,
   "id": "e55cc21a-16ad-4e72-b0aa-ebd4452728ed",
   "metadata": {},
   "outputs": [],
   "source": [
    "# Assigning X (feature matrix) and Y (response vector)\n",
    "X = combined['title_final']\n",
    "\n",
    "# Instantiate CountVectorizer\n",
    "cvec = CountVectorizer()\n",
    "\n",
    "# Fitting and transforming\n",
    "X_cvec = cvec.fit_transform(X)\n",
    "\n",
    "# Converting results into a dataFrame\n",
    "X_df = pd.DataFrame(X_cvec.toarray(),columns=cvec.get_feature_names_out())"
   ]
  },
  {
   "cell_type": "code",
   "execution_count": 28,
   "id": "d0923522-a5f4-4d82-9db4-fba9243351d3",
   "metadata": {},
   "outputs": [],
   "source": [
    "# Identifying top occurring words\n",
    "X_df = X_df.sum().sort_values(ascending=False).head(20)"
   ]
  },
  {
   "cell_type": "code",
   "execution_count": 33,
   "id": "ab0bc63e-de56-416d-82e0-1429c0ff2439",
   "metadata": {},
   "outputs": [
    {
     "data": {
      "image/png": "[encoded data removed]",
      "text/plain": [
       "<Figure size 720x360 with 1 Axes>"
      ]
     },
     "metadata": {
      "needs_background": "light"
     },
     "output_type": "display_data"
    }
   ],
   "source": [
    "# Plotting barplot to visualize results\n",
    "plt.figure(figsize = (10,5))\n",
    "sns.barplot(x=X_df.values, y=X_df.index, palette=\"ch:start=.2,rot=-.3\").set(title='Top 20 Unigrams');"
   ]
  },
  {
   "cell_type": "markdown",
   "id": "5c349554-3e41-4bf9-85ca-ddb5485f3dfb",
   "metadata": {},
   "source": [
    "Common words between both datasets like `game`, `controller` and `play` are amplified after the merge."
   ]
  },
  {
   "cell_type": "markdown",
   "id": "e8f8acde-0649-42e0-94dd-2eeabe0c2006",
   "metadata": {},
   "source": [
    "---"
   ]
  }
 ],
 "metadata": {
  "kernelspec": {
   "display_name": "Python 3 (ipykernel)",
   "language": "python",
   "name": "python3"
  },
  "language_info": {
   "codemirror_mode": {
    "name": "ipython",
    "version": 3
   },
   "file_extension": ".py",
   "mimetype": "text/x-python",
   "name": "python",
   "nbconvert_exporter": "python",
   "pygments_lexer": "ipython3",
   "version": "3.9.12"
  }
 },
 "nbformat": 4,
 "nbformat_minor": 5
}
