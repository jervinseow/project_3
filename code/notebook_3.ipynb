{
 "cells": [
  {
   "cell_type": "markdown",
   "id": "057a2968-d3f1-4fbc-8c23-4443ea2afa05",
   "metadata": {},
   "source": [
    "<img src=\"http://imgur.com/1ZcRyrc.png\" style=\"float: left; margin: 20px; height: 55px\">\n",
    "\n",
    "# Project 3: Web APIs & NLP"
   ]
  },
  {
   "cell_type": "markdown",
   "id": "59663708-f9e3-45c9-b128-cf28ac532515",
   "metadata": {},
   "source": [
    "---"
   ]
  },
  {
   "cell_type": "markdown",
   "id": "b2816082-a881-473d-bc87-c7c5a0432339",
   "metadata": {},
   "source": [
    "Notebook 1: Data Collection and Export<br>\n",
    "Notebook 2: Cleaning, Preprocessing and EDA<br>\n",
    "**Notebook 3: Model Selection**\n",
    "---"
   ]
  },
  {
   "cell_type": "code",
   "execution_count": 1,
   "id": "35cd0ec4-dbe9-4114-8cf7-d2ed62053aa5",
   "metadata": {},
   "outputs": [],
   "source": [
    "# Imports\n",
    "import pandas as pd\n",
    "import numpy as np\n",
    "import matplotlib.pyplot as plt\n",
    "import seaborn as sns\n",
    "\n",
    "from sklearn.model_selection import train_test_split, GridSearchCV, cross_val_score\n",
    "from sklearn.feature_extraction.text import CountVectorizer, TfidfVectorizer\n",
    "from sklearn.naive_bayes import MultinomialNB\n",
    "from sklearn.pipeline import Pipeline\n",
    "from sklearn.linear_model import LogisticRegression\n",
    "from sklearn.metrics import confusion_matrix, ConfusionMatrixDisplay, accuracy_score, plot_roc_curve, roc_auc_score, recall_score, precision_score, f1_score\n",
    "from sklearn.ensemble import RandomForestClassifier\n",
    "\n",
    "import warnings\n",
    "#warnings.filterwarnings(\"ignore\")"
   ]
  },
  {
   "cell_type": "code",
   "execution_count": 2,
   "id": "05232ec4-006b-479d-b7eb-ed1469a98050",
   "metadata": {},
   "outputs": [],
   "source": [
    "# Importing datasets from Notebook 2\n",
    "combined = pd.read_csv('../datasets/combined.csv')"
   ]
  },
  {
   "cell_type": "code",
   "execution_count": 3,
   "id": "b87479d7-e404-4743-94c3-58c2c02a1d8b",
   "metadata": {},
   "outputs": [
    {
     "name": "stdout",
     "output_type": "stream",
     "text": [
      "<class 'pandas.core.frame.DataFrame'>\n",
      "RangeIndex: 29982 entries, 0 to 29981\n",
      "Data columns (total 2 columns):\n",
      " #   Column       Non-Null Count  Dtype \n",
      "---  ------       --------------  ----- \n",
      " 0   subreddit    29982 non-null  object\n",
      " 1   title_final  29940 non-null  object\n",
      "dtypes: object(2)\n",
      "memory usage: 468.6+ KB\n"
     ]
    }
   ],
   "source": [
    "combined.info()"
   ]
  },
  {
   "cell_type": "code",
   "execution_count": 4,
   "id": "cc8b1774-b619-4dd5-ada7-139cc97e499a",
   "metadata": {},
   "outputs": [],
   "source": [
    "# Dropping titles that became null values after stopwords were removed\n",
    "combined = combined.dropna(axis=0)"
   ]
  },
  {
   "cell_type": "code",
   "execution_count": 5,
   "id": "7368a9c8-0e51-4ab1-9e46-27f9e6a82b5e",
   "metadata": {},
   "outputs": [
    {
     "name": "stdout",
     "output_type": "stream",
     "text": [
      "There are 0 null values left in the dataset.\n"
     ]
    }
   ],
   "source": [
    "print(f'There are {combined.isnull().sum().sum()} null values left in the dataset.')"
   ]
  },
  {
   "cell_type": "code",
   "execution_count": 6,
   "id": "426948b3-86aa-479c-97b0-cbefcc8b3341",
   "metadata": {},
   "outputs": [],
   "source": [
    "# Engineering a feature to turn subreddit into a 1/0 column, where 1 indicates PS5\n",
    "combined['ps5'] = [1 if value == 'ps5' else 0 for value in combined['subreddit'].values]"
   ]
  },
  {
   "cell_type": "code",
   "execution_count": 7,
   "id": "ab7e56cf-2446-4177-a150-55ae2b40dd38",
   "metadata": {},
   "outputs": [
    {
     "data": {
      "text/plain": [
       "1    14980\n",
       "0    14960\n",
       "Name: ps5, dtype: int64"
      ]
     },
     "execution_count": 7,
     "metadata": {},
     "output_type": "execute_result"
    }
   ],
   "source": [
    "combined['ps5'].value_counts()"
   ]
  },
  {
   "cell_type": "code",
   "execution_count": 8,
   "id": "f9e2560a-ca9b-4492-9525-544acbe4e2e0",
   "metadata": {},
   "outputs": [
    {
     "name": "stdout",
     "output_type": "stream",
     "text": [
      "(29940, 2)\n"
     ]
    },
    {
     "data": {
      "text/html": [
       "<div>\n",
       "<style scoped>\n",
       "    .dataframe tbody tr th:only-of-type {\n",
       "        vertical-align: middle;\n",
       "    }\n",
       "\n",
       "    .dataframe tbody tr th {\n",
       "        vertical-align: top;\n",
       "    }\n",
       "\n",
       "    .dataframe thead th {\n",
       "        text-align: right;\n",
       "    }\n",
       "</style>\n",
       "<table border=\"1\" class=\"dataframe\">\n",
       "  <thead>\n",
       "    <tr style=\"text-align: right;\">\n",
       "      <th></th>\n",
       "      <th>ps5</th>\n",
       "      <th>title_final</th>\n",
       "    </tr>\n",
       "  </thead>\n",
       "  <tbody>\n",
       "    <tr>\n",
       "      <th>0</th>\n",
       "      <td>1</td>\n",
       "      <td>yall get ps</td>\n",
       "    </tr>\n",
       "    <tr>\n",
       "      <th>1</th>\n",
       "      <td>1</td>\n",
       "      <td>p horizon bundle still stock p direct</td>\n",
       "    </tr>\n",
       "    <tr>\n",
       "      <th>2</th>\n",
       "      <td>1</td>\n",
       "      <td>p doesnt work</td>\n",
       "    </tr>\n",
       "    <tr>\n",
       "      <th>3</th>\n",
       "      <td>1</td>\n",
       "      <td>vrr support hdmi</td>\n",
       "    </tr>\n",
       "    <tr>\n",
       "      <th>4</th>\n",
       "      <td>1</td>\n",
       "      <td>slow download speed</td>\n",
       "    </tr>\n",
       "  </tbody>\n",
       "</table>\n",
       "</div>"
      ],
      "text/plain": [
       "   ps5                            title_final\n",
       "0    1                            yall get ps\n",
       "1    1  p horizon bundle still stock p direct\n",
       "2    1                          p doesnt work\n",
       "3    1                       vrr support hdmi\n",
       "4    1                    slow download speed"
      ]
     },
     "execution_count": 8,
     "metadata": {},
     "output_type": "execute_result"
    }
   ],
   "source": [
    "# Dropping subreddit column\n",
    "combined = combined[['ps5','title_final']]\n",
    "print(combined.shape)\n",
    "combined.head()"
   ]
  },
  {
   "cell_type": "markdown",
   "id": "812fdb89-7074-4484-bf80-b26cc2ccd14c",
   "metadata": {},
   "source": [
    "## 1. Preparation"
   ]
  },
  {
   "cell_type": "markdown",
   "id": "306b976b-986e-4153-8112-86c2935cbd61",
   "metadata": {},
   "source": [
    "### 1.1 Train-Test Split"
   ]
  },
  {
   "cell_type": "code",
   "execution_count": 9,
   "id": "e9560faa-bf9b-48c3-a6a0-02864af0c782",
   "metadata": {},
   "outputs": [],
   "source": [
    "# Assigning X (feature matrix) and Y (response vector)\n",
    "X = combined['title_final']\n",
    "y = combined['ps5']"
   ]
  },
  {
   "cell_type": "code",
   "execution_count": 10,
   "id": "7e9ffc1f-0a04-4efc-a297-135eb7aef4f0",
   "metadata": {},
   "outputs": [],
   "source": [
    "# Splitting the dataset\n",
    "X_train, X_test, y_train, y_test = train_test_split(X, y, stratify=y, random_state = 42, test_size=0.1)"
   ]
  },
  {
   "cell_type": "code",
   "execution_count": 11,
   "id": "26427e2e-8bb2-4804-a0d5-8b6e40e52a8f",
   "metadata": {},
   "outputs": [
    {
     "name": "stdout",
     "output_type": "stream",
     "text": [
      "(29940,)\n",
      "(26946,)\n",
      "(2994,)\n",
      "\n",
      "(29940,)\n",
      "(26946,)\n",
      "(2994,)\n"
     ]
    }
   ],
   "source": [
    "#looking at the shapes of the training and test data\n",
    "print(X.shape)\n",
    "print(X_train.shape)\n",
    "print(X_test.shape)\n",
    "print('')\n",
    "print(y.shape)\n",
    "print(y_train.shape)\n",
    "print(y_test.shape)"
   ]
  },
  {
   "cell_type": "markdown",
   "id": "28d6a602-d1a0-4afe-965e-37df28c552a0",
   "metadata": {},
   "source": [
    "### 1.2 Baseline\n"
   ]
  },
  {
   "cell_type": "markdown",
   "id": "1ec034c8-ee2f-4915-9fc8-e875b66133fb",
   "metadata": {},
   "source": [
    "We need to calculate baseline accuracy in order to tell if our model is better than null model, (blindly predicting everything)."
   ]
  },
  {
   "cell_type": "code",
   "execution_count": 12,
   "id": "8f158c00-9dd1-47f7-92d9-a5d428e52405",
   "metadata": {},
   "outputs": [
    {
     "data": {
      "text/plain": [
       "1    0.500334\n",
       "0    0.499666\n",
       "Name: ps5, dtype: float64"
      ]
     },
     "execution_count": 12,
     "metadata": {},
     "output_type": "execute_result"
    }
   ],
   "source": [
    "# Calculating percentage of each category\n",
    "y_test.value_counts(normalize=True)"
   ]
  },
  {
   "cell_type": "markdown",
   "id": "b8f7f4f7-ec5e-44d8-9481-9f658a9f3cda",
   "metadata": {},
   "source": [
    "The success rate of blind classification is currently 50%"
   ]
  },
  {
   "cell_type": "markdown",
   "id": "b3eb670e-13ac-4e70-94c5-d15120102924",
   "metadata": {},
   "source": [
    "### 1.3 Creating a Modelling Functions"
   ]
  },
  {
   "cell_type": "code",
   "execution_count": 13,
   "id": "d8edf7ee-23b3-4311-8339-f858174d11cc",
   "metadata": {},
   "outputs": [],
   "source": [
    "# Creating dictionary of Classification Models\n",
    "mods = {'lr': LogisticRegression(max_iter = 1_000, random_state = 42),\n",
    "        'rf': RandomForestClassifier(random_state = 42),\n",
    "        'nb': MultinomialNB()}"
   ]
  },
  {
   "cell_type": "code",
   "execution_count": 14,
   "id": "808dd38f-9bf9-48a3-b791-f1e9d717c4dd",
   "metadata": {},
   "outputs": [],
   "source": [
    "# Creating function for Count Vectorizer\n",
    "def cvec_model(mod):\n",
    "    \n",
    "    # Initiating a pipeline\n",
    "    pipe = Pipeline([('cvec', CountVectorizer()), (mod, mods[mod])])\n",
    "\n",
    "    # Setting up constant pipe parameters to ensure fair comparison\n",
    "    pipe_params = {\n",
    "        'cvec__max_features' : [5_000],\n",
    "        'cvec__ngram_range' : [(1,1)]\n",
    "    }\n",
    "\n",
    "    # Instantiating a Gridsearch\n",
    "    gs = GridSearchCV(pipe, \n",
    "                      param_grid=pipe_params, \n",
    "                      cv=5,\n",
    "                      n_jobs=-1\n",
    "                     )\n",
    "\n",
    "    # Fitting\n",
    "    gs.fit(X_train, y_train);\n",
    "\n",
    "    print('CV Score:', gs.best_score_)\n",
    "    print('Train Score:', gs.score(X_train, y_train)) \n",
    "    print('Test Score:', gs.score(X_test, y_test)) \n",
    "    print('\\n')\n",
    "\n",
    "    # Get predictions\n",
    "    predictions = gs.predict(X_test)\n",
    "    \n",
    "    # Additional Metrics\n",
    "    print('Recall:', recall_score(y_test, predictions))\n",
    "    print('Precision:', precision_score(y_test, predictions))\n",
    "    print('F1 Score', f1_score(y_test, predictions))\n",
    "    print('ROC Score:',roc_auc_score(y_test, predictions))\n",
    "    print('\\n')\n",
    "\n",
    "          \n",
    "    # Plot confusion matrix\n",
    "    cm = confusion_matrix(y_test, predictions)\n",
    "    disp = ConfusionMatrixDisplay(confusion_matrix=cm)\n",
    "    disp.plot(cmap = 'Blues')\n",
    "    plt.show();"
   ]
  },
  {
   "cell_type": "code",
   "execution_count": 15,
   "id": "14bfd76b-2a2c-46fa-9620-6ee130eacdb8",
   "metadata": {},
   "outputs": [],
   "source": [
    "# Creating function for TF-IDF Vectorizer\n",
    "def tvec_model(mod):\n",
    "    \n",
    "    # Initiating a pipeline\n",
    "    pipe = Pipeline([('tvec', TfidfVectorizer()), (mod, mods[mod])])\n",
    "\n",
    "    # Setting up constant pipe parameters to ensure fair comparison\n",
    "    pipe_params = {\n",
    "        'tvec__max_features' : [5_000],\n",
    "        'tvec__ngram_range' : [(1,1)]\n",
    "    }\n",
    "\n",
    "    # Instantiating a Gridsearch\n",
    "    gs = GridSearchCV(pipe, \n",
    "                      param_grid=pipe_params, \n",
    "                      cv=5,\n",
    "                      n_jobs=-1\n",
    "                     )\n",
    "\n",
    "    # Fitting\n",
    "    gs.fit(X_train, y_train);\n",
    "    \n",
    "    print('CV Score:', gs.best_score_)\n",
    "    print('Train Score:', gs.score(X_train, y_train)) \n",
    "    print('Test Score:', gs.score(X_test, y_test))\n",
    "    print('\\n')\n",
    "\n",
    "    # Get predictions\n",
    "    predictions = gs.predict(X_test)\n",
    "\n",
    "    # Additional Metrics\n",
    "    print('Recall:', recall_score(y_test, predictions))\n",
    "    print('Precision:', precision_score(y_test, predictions))\n",
    "    print('F1 Score', f1_score(y_test, predictions))\n",
    "    print('ROC Score:',roc_auc_score(y_test, predictions))\n",
    "    print('\\n')\n",
    "    \n",
    "    # Plot confusion matrix\n",
    "    cm = confusion_matrix(y_test, predictions)\n",
    "    disp = ConfusionMatrixDisplay(confusion_matrix=cm)\n",
    "    disp.plot(cmap = 'Blues')\n",
    "    plt.show();"
   ]
  },
  {
   "cell_type": "markdown",
   "id": "758c79bc-ad83-4d4a-a24d-11e7388c9929",
   "metadata": {},
   "source": [
    "---"
   ]
  },
  {
   "cell_type": "markdown",
   "id": "534893cf-bc93-4fef-bce5-a604ca6b1375",
   "metadata": {},
   "source": [
    "## 2. Modelling"
   ]
  },
  {
   "cell_type": "markdown",
   "id": "74afdf97-f4a6-4f95-bcb2-21cb1b7e2673",
   "metadata": {},
   "source": [
    "We will first look at a few combinations of vectorizers and classification models to identify the most suitable model for our dataset. Pipeline parameters will be kept at a constant for now to ensure fair comparison."
   ]
  },
  {
   "cell_type": "markdown",
   "id": "d11c8b32-03cb-45f8-97c9-2a257184c57b",
   "metadata": {},
   "source": [
    "### 2.1 Naive Bayes + Count Vectorizer"
   ]
  },
  {
   "cell_type": "code",
   "execution_count": 16,
   "id": "dca64092",
   "metadata": {},
   "outputs": [
    {
     "name": "stdout",
     "output_type": "stream",
     "text": [
      "CV Score: 0.7528016012828992\n",
      "Train Score: 0.7967416314109701\n",
      "Test Score: 0.7715430861723447\n",
      "\n",
      "\n",
      "Recall: 0.732977303070761\n",
      "Precision: 0.7945007235890015\n",
      "F1 Score 0.7625000000000001\n",
      "ROC Score: 0.7715688654391237\n",
      "\n",
      "\n"
     ]
    },
    {
     "data": {
      "image/png": "[encoded data removed]",
      "text/plain": [
       "<Figure size 432x288 with 2 Axes>"
      ]
     },
     "metadata": {
      "needs_background": "light"
     },
     "output_type": "display_data"
    }
   ],
   "source": [
    "cvec_model('nb')"
   ]
  },
  {
   "cell_type": "markdown",
   "id": "0ac76ab8-06df-48aa-8405-7b357b121e0a",
   "metadata": {
    "tags": []
   },
   "source": [
    "### 2.2 Naive Bayes + TF-IDF Vectorizer"
   ]
  },
  {
   "cell_type": "code",
   "execution_count": 17,
   "id": "7b911539",
   "metadata": {},
   "outputs": [
    {
     "name": "stdout",
     "output_type": "stream",
     "text": [
      "CV Score: 0.7475317032462542\n",
      "Train Score: 0.8003414235879166\n",
      "Test Score: 0.7608550434201736\n",
      "\n",
      "\n",
      "Recall: 0.719626168224299\n",
      "Precision: 0.784570596797671\n",
      "F1 Score 0.7506963788300837\n",
      "ROC Score: 0.7608826028287271\n",
      "\n",
      "\n"
     ]
    },
    {
     "data": {
      "image/png": "[encoded data removed]",
      "text/plain": [
       "<Figure size 432x288 with 2 Axes>"
      ]
     },
     "metadata": {
      "needs_background": "light"
     },
     "output_type": "display_data"
    }
   ],
   "source": [
    "tvec_model('nb')"
   ]
  },
  {
   "cell_type": "markdown",
   "id": "ea99dc4b-1130-4bfc-b6d6-0c3a27c319bf",
   "metadata": {},
   "source": [
    "For Naive Bayes, Count Vectorizer gives higher scores across the board (except the training score). Testing scores are lower than training scores, which suggests overfitting."
   ]
  },
  {
   "cell_type": "markdown",
   "id": "622aab3b-d067-4188-b0ad-ad22898a11fa",
   "metadata": {},
   "source": [
    "### 2.3 Logistic Regression + Count Vectorizer"
   ]
  },
  {
   "cell_type": "code",
   "execution_count": 18,
   "id": "013ee0d4",
   "metadata": {},
   "outputs": [
    {
     "name": "stdout",
     "output_type": "stream",
     "text": [
      "CV Score: 0.7654569691369522\n",
      "Train Score: 0.8399762487938841\n",
      "Test Score: 0.7745490981963928\n",
      "\n",
      "\n",
      "Recall: 0.8204272363150867\n",
      "Precision: 0.7516819571865443\n",
      "F1 Score 0.7845515480370252\n",
      "ROC Score: 0.774518430991768\n",
      "\n",
      "\n"
     ]
    },
    {
     "data": {
      "image/png": "[encoded data removed]",
      "text/plain": [
       "<Figure size 432x288 with 2 Axes>"
      ]
     },
     "metadata": {
      "needs_background": "light"
     },
     "output_type": "display_data"
    }
   ],
   "source": [
    "cvec_model('lr')"
   ]
  },
  {
   "cell_type": "markdown",
   "id": "a2aa2d07-7897-4465-ad07-a4f19218a534",
   "metadata": {
    "tags": []
   },
   "source": [
    "### 2.4 Logistic Regression + TF-IDF Vectorizer"
   ]
  },
  {
   "cell_type": "code",
   "execution_count": 19,
   "id": "3c5a1ad7",
   "metadata": {},
   "outputs": [
    {
     "name": "stdout",
     "output_type": "stream",
     "text": [
      "CV Score: 0.7693165594313436\n",
      "Train Score: 0.8273584205447932\n",
      "Test Score: 0.7802271209084837\n",
      "\n",
      "\n",
      "Recall: 0.8344459279038718\n",
      "Precision: 0.7530120481927711\n",
      "F1 Score 0.7916402786573781\n",
      "ROC Score: 0.7801908783904385\n",
      "\n",
      "\n"
     ]
    },
    {
     "data": {
      "image/png": "[encoded data removed]",
      "text/plain": [
       "<Figure size 432x288 with 2 Axes>"
      ]
     },
     "metadata": {
      "needs_background": "light"
     },
     "output_type": "display_data"
    }
   ],
   "source": [
    "tvec_model('lr')"
   ]
  },
  {
   "cell_type": "markdown",
   "id": "9c4a5d94-2442-425a-9900-ebc7b99e8c2b",
   "metadata": {},
   "source": [
    "For Logistic Regression, TF-IDF Vectorizer gives slightly better scores than Count Vectorizer, other than training scores. Testing scores are lower than training scores, which suggests overfitting. Predictions were better for True Positives and False Negatives, but worse when it came to True Negatives and False Positives."
   ]
  },
  {
   "cell_type": "markdown",
   "id": "3e7e2b60-f938-48d1-a3de-0a82d01e560a",
   "metadata": {},
   "source": [
    "### 2.5 Random Forest + Count Vectorizer"
   ]
  },
  {
   "cell_type": "code",
   "execution_count": 20,
   "id": "c2ce5a51-2cc3-4621-89bb-04ed67e25ef0",
   "metadata": {},
   "outputs": [
    {
     "name": "stdout",
     "output_type": "stream",
     "text": [
      "CV Score: 0.7536553089833582\n",
      "Train Score: 0.9768054627774067\n",
      "Test Score: 0.760187040748163\n",
      "\n",
      "\n",
      "Recall: 0.7590120160213618\n",
      "Precision: 0.7610441767068273\n",
      "F1 Score 0.7600267379679144\n",
      "ROC Score: 0.760187826192499\n",
      "\n",
      "\n"
     ]
    },
    {
     "data": {
      "image/png": "[encoded data removed]",
      "text/plain": [
       "<Figure size 432x288 with 2 Axes>"
      ]
     },
     "metadata": {
      "needs_background": "light"
     },
     "output_type": "display_data"
    }
   ],
   "source": [
    "cvec_model('rf')"
   ]
  },
  {
   "cell_type": "markdown",
   "id": "4746bbcf-3db7-4b35-987a-0cf2208c1a97",
   "metadata": {},
   "source": [
    "### 2.6 Random Forest + TF-IDF Vectorizer"
   ]
  },
  {
   "cell_type": "code",
   "execution_count": 21,
   "id": "b8b97bf0-3f71-47bd-b208-a4d45e717206",
   "metadata": {},
   "outputs": [
    {
     "name": "stdout",
     "output_type": "stream",
     "text": [
      "CV Score: 0.7601869540474636\n",
      "Train Score: 0.9767312402582944\n",
      "Test Score: 0.7705410821643287\n",
      "\n",
      "\n",
      "Recall: 0.8090787716955942\n",
      "Precision: 0.7513949163050218\n",
      "F1 Score 0.7791706846673095\n",
      "ROC Score: 0.770515321676674\n",
      "\n",
      "\n"
     ]
    },
    {
     "data": {
      "image/png": "[encoded data removed]",
      "text/plain": [
       "<Figure size 432x288 with 2 Axes>"
      ]
     },
     "metadata": {
      "needs_background": "light"
     },
     "output_type": "display_data"
    }
   ],
   "source": [
    "tvec_model('rf')"
   ]
  },
  {
   "cell_type": "markdown",
   "id": "d0e69e82-58e4-4122-95ed-3456ddf2e859",
   "metadata": {},
   "source": [
    "For Random Forest, scores for TF-IDF vectorizer were generally better, other than Precision. This is because there were more predictions that were True Positives and lesser predictions that were True Negatives. There was also a big difference in testing and training scores, which shows us that the model is moderately overfitted."
   ]
  },
  {
   "cell_type": "markdown",
   "id": "46db7c09-576b-40c7-a202-ca57e67ec4e0",
   "metadata": {},
   "source": [
    "---"
   ]
  },
  {
   "cell_type": "markdown",
   "id": "f6589eb9-aba3-451d-a009-0cb00088bbda",
   "metadata": {},
   "source": [
    "## 3. Hyperparameter Tuning"
   ]
  },
  {
   "cell_type": "markdown",
   "id": "04999a8b-9a8a-4808-b76c-01b4d6060fd6",
   "metadata": {},
   "source": [
    "Next, we will try tuning the Naive Bayes and Logistic Regression models with their top scoring vectorizer. Random Forest will be dropped because of its overfitting."
   ]
  },
  {
   "cell_type": "markdown",
   "id": "a51882d2-97ce-4e88-9501-fd35ea5c0866",
   "metadata": {},
   "source": [
    "### 3.1 Naive Bayes"
   ]
  },
  {
   "cell_type": "code",
   "execution_count": 22,
   "id": "62445b83-9ac2-4a0a-8741-7cb242c7c0ce",
   "metadata": {},
   "outputs": [
    {
     "name": "stdout",
     "output_type": "stream",
     "text": [
      "CV Score: 0.7586651913418078\n",
      "Train Score: 0.8184517182513175\n",
      "Test Score: 0.7765531062124249\n",
      "Best Parameters: [\"{'cvec__max_df': 0.7, 'cvec__max_features': 10000, 'cvec__min_df': 2, 'cvec__ngram_range': (1, 2), 'nb__alpha': 1, 'nb__fit_prior': False}\"]\n",
      "\n",
      "\n",
      "Recall: 0.7409879839786382\n",
      "Precision: 0.7979870596693026\n",
      "F1 Score 0.7684319833852544\n",
      "ROC Score: 0.7765768796898539\n",
      "\n",
      "\n"
     ]
    },
    {
     "data": {
      "image/png": "[encoded data removed]",
      "text/plain": [
       "<Figure size 432x288 with 2 Axes>"
      ]
     },
     "metadata": {
      "needs_background": "light"
     },
     "output_type": "display_data"
    }
   ],
   "source": [
    "# Initiating a pipeline\n",
    "pipe = Pipeline([\n",
    "    ('cvec', CountVectorizer()),\n",
    "    ('nb', MultinomialNB())\n",
    "])\n",
    "\n",
    "# Setting up pipe parameters\n",
    "pipe_params = {\n",
    "    'cvec__max_features' : [5_000, 10_000],\n",
    "    'cvec__min_df' : [2, 3, 4],\n",
    "    'cvec__max_df': [0.7, 0.8, 0.9],\n",
    "    'cvec__ngram_range' : [(1,1), (1,2)],\n",
    "    'nb__fit_prior': [True, False],\n",
    "    'nb__alpha': [1, 2, 3, 4]\n",
    "    \n",
    "}\n",
    "\n",
    "# Instantiating a Gridsearch\n",
    "gs = GridSearchCV(pipe, \n",
    "                  param_grid=pipe_params, \n",
    "                  cv=5,\n",
    "                  n_jobs=-1\n",
    "                 )\n",
    "\n",
    "# Fitting\n",
    "gs.fit(X_train, y_train);\n",
    "\n",
    "print('CV Score:', gs.best_score_)\n",
    "print('Train Score:', gs.score(X_train, y_train)) \n",
    "print('Test Score:', gs.score(X_test, y_test)) \n",
    "print('Best Parameters:', [str(gs.best_params_)])\n",
    "print('\\n')\n",
    "\n",
    "# Get predictions\n",
    "predictions = gs.predict(X_test)\n",
    "\n",
    "# Additional Metrics\n",
    "print('Recall:', recall_score(y_test, predictions))\n",
    "print('Precision:', precision_score(y_test, predictions))\n",
    "print('F1 Score', f1_score(y_test, predictions))\n",
    "print('ROC Score:',roc_auc_score(y_test, predictions))\n",
    "print('\\n')\n",
    "\n",
    "# Plot confusion matrix\n",
    "cm = confusion_matrix(y_test, predictions)\n",
    "disp = ConfusionMatrixDisplay(confusion_matrix=cm)\n",
    "disp.plot(cmap = 'Blues')\n",
    "plt.show();"
   ]
  },
  {
   "cell_type": "markdown",
   "id": "b8c2eedb-5bb5-42aa-aacc-00768c7527cf",
   "metadata": {},
   "source": [
    "After the tuning, we can see that every score has increased when compared to before. True Postives and Negatives have both increased, False Positives and Negatives have both decreased."
   ]
  },
  {
   "cell_type": "markdown",
   "id": "7bf329a6-2c98-48c3-9390-e999e29cbb3e",
   "metadata": {},
   "source": [
    "### 3.2 Logistic Regression"
   ]
  },
  {
   "cell_type": "markdown",
   "id": "0f568595-526d-4156-8dba-fd7729458a6d",
   "metadata": {},
   "source": [
    "- Using ElasticNet to add both a l1 or l2 penalty term, to determine which penalty term gives the best scores."
   ]
  },
  {
   "cell_type": "code",
   "execution_count": 23,
   "id": "2900b4d3-2ef5-49a3-8f25-b5d515e68f77",
   "metadata": {},
   "outputs": [
    {
     "name": "stdout",
     "output_type": "stream",
     "text": [
      "CV Score: 0.7735471728123426\n",
      "Train Score: 0.8446151562384028\n",
      "Test Score: 0.782565130260521\n",
      "Best Parameters: [\"{'lr__C': 1.0, 'lr__l1_ratio': 0.1, 'lr__penalty': 'elasticnet', 'lr__solver': 'saga', 'tvec__max_df': 0.7, 'tvec__max_features': 10000, 'tvec__min_df': 2, 'tvec__ngram_range': (1, 2)}\"]\n",
      "\n",
      "\n",
      "Recall: 0.8457943925233645\n",
      "Precision: 0.7510373443983402\n",
      "F1 Score 0.7956043956043956\n",
      "ROC Score: 0.7825228647108802\n",
      "\n",
      "\n"
     ]
    },
    {
     "data": {
      "image/png": "[encoded data removed]",
      "text/plain": [
       "<Figure size 432x288 with 2 Axes>"
      ]
     },
     "metadata": {
      "needs_background": "light"
     },
     "output_type": "display_data"
    }
   ],
   "source": [
    "# Initiating a pipeline\n",
    "pipe = Pipeline([\n",
    "    ('tvec', TfidfVectorizer()),\n",
    "    ('lr', LogisticRegression(random_state = 42, max_iter=1000))\n",
    "])\n",
    "\n",
    "# Setting up pipe parameters\n",
    "pipe_params = {\n",
    "    'tvec__max_features' : [10_000],\n",
    "    'tvec__min_df' : [2],\n",
    "    'tvec__max_df': [0.7],\n",
    "    'tvec__ngram_range' : [(1,2)],\n",
    "    'lr__C': np.linspace(0.001, 1, 10),\n",
    "    'lr__solver': ['saga'],\n",
    "    'lr__penalty': ['elasticnet'],\n",
    "    'lr__l1_ratio': np.linspace(0, 1, 11)\n",
    "}\n",
    "\n",
    "# Instantiating a Gridsearch\n",
    "gs = GridSearchCV(pipe, \n",
    "                  param_grid=pipe_params, \n",
    "                  cv=5,\n",
    "                  n_jobs=-1\n",
    "                 )\n",
    "\n",
    "# Fitting\n",
    "gs.fit(X_train, y_train);\n",
    "\n",
    "print('CV Score:', gs.best_score_)\n",
    "print('Train Score:', gs.score(X_train, y_train)) \n",
    "print('Test Score:', gs.score(X_test, y_test)) \n",
    "print('Best Parameters:', [str(gs.best_params_)])\n",
    "print('\\n')\n",
    "\n",
    "# Get predictions\n",
    "predictions = gs.predict(X_test)\n",
    "\n",
    "# Additional Metrics\n",
    "print('Recall:', recall_score(y_test, predictions))\n",
    "print('Precision:', precision_score(y_test, predictions))\n",
    "print('F1 Score', f1_score(y_test, predictions))\n",
    "print('ROC Score:',roc_auc_score(y_test, predictions))\n",
    "print('\\n')\n",
    "\n",
    "# Plot confusion matrix\n",
    "cm = confusion_matrix(y_test, predictions)\n",
    "disp = ConfusionMatrixDisplay(confusion_matrix=cm)\n",
    "disp.plot(cmap = 'Blues')\n",
    "plt.show();"
   ]
  },
  {
   "cell_type": "markdown",
   "id": "04bf9e30-d9ad-48db-87f6-43b4faf391a7",
   "metadata": {},
   "source": [
    "The `l1_ratio` is the 0.1, the lowest value in the range passed in the GridSearch. This means that the l2 penalty term is at is maximum value. Hence, we can try using just a l2 penalty term to see if it will increase our model's accuracy."
   ]
  },
  {
   "cell_type": "code",
   "execution_count": 24,
   "id": "e2541f87-8be1-4366-9555-24a95e742f1b",
   "metadata": {},
   "outputs": [
    {
     "name": "stdout",
     "output_type": "stream",
     "text": [
      "CV Score: 0.7731760533292755\n",
      "Train Score: 0.8454687152081942\n",
      "Test Score: 0.7842351369405478\n",
      "Best Parameters: [\"{'lr__C': 0.9001, 'lr__solver': 'newton-cg', 'tvec__max_df': 0.7, 'tvec__max_features': 10000, 'tvec__min_df': 2, 'tvec__ngram_range': (1, 2)}\"]\n",
      "\n",
      "\n",
      "Recall: 0.8491321762349799\n",
      "Precision: 0.75177304964539\n",
      "F1 Score 0.7974921630094044\n",
      "ROC Score: 0.7841917565666878\n",
      "\n",
      "\n"
     ]
    },
    {
     "data": {
      "image/png": "[encoded data removed]",
      "text/plain": [
       "<Figure size 432x288 with 2 Axes>"
      ]
     },
     "metadata": {
      "needs_background": "light"
     },
     "output_type": "display_data"
    }
   ],
   "source": [
    "# Initiating a pipeline\n",
    "pipe = Pipeline([\n",
    "    ('tvec', TfidfVectorizer()),\n",
    "    ('lr', LogisticRegression(random_state = 42, max_iter=1000))\n",
    "])\n",
    "\n",
    "# Setting up pipe parameters\n",
    "pipe_params = {\n",
    "    'tvec__max_features' : [5_000, 10_000],\n",
    "    'tvec__min_df' : [2, 3, 4],\n",
    "    'tvec__max_df': [0.7, 0.8, 0.9],\n",
    "    'tvec__ngram_range' : [(1,1),(1,2)],\n",
    "    'lr__C': np.linspace(0.001, 1, 11),\n",
    "    'lr__solver': ['newton-cg', 'lbfgs', 'sag', 'saga']\n",
    "}\n",
    "\n",
    "# Instantiating a Gridsearch\n",
    "gs = GridSearchCV(pipe, \n",
    "                  param_grid=pipe_params, \n",
    "                  cv=5,\n",
    "                  n_jobs=-1\n",
    "                 )\n",
    "\n",
    "# Fitting\n",
    "gs.fit(X_train, y_train);\n",
    "\n",
    "print('CV Score:', gs.best_score_)\n",
    "print('Train Score:', gs.score(X_train, y_train)) \n",
    "print('Test Score:', gs.score(X_test, y_test)) \n",
    "print('Best Parameters:', [str(gs.best_params_)])\n",
    "print('\\n')\n",
    "\n",
    "# Get predictions\n",
    "predictions = gs.predict(X_test)\n",
    "\n",
    "# Additional Metrics\n",
    "print('Recall:', recall_score(y_test, predictions))\n",
    "print('Precision:', precision_score(y_test, predictions))\n",
    "print('F1 Score', f1_score(y_test, predictions))\n",
    "print('ROC Score:',roc_auc_score(y_test, predictions))\n",
    "print('\\n')\n",
    "\n",
    "# Plot confusion matrix\n",
    "cm = confusion_matrix(y_test, predictions)\n",
    "disp = ConfusionMatrixDisplay(confusion_matrix=cm)\n",
    "disp.plot(cmap = 'Blues')\n",
    "plt.show();"
   ]
  },
  {
   "cell_type": "markdown",
   "id": "7503acd1-477a-4c37-bfa3-ee10189b69a8",
   "metadata": {},
   "source": [
    "Our model's scores have improved as expected after adding a l2 penalty term. This is the best scoring model thus far."
   ]
  },
  {
   "cell_type": "code",
   "execution_count": 25,
   "id": "a243f71a-f891-4193-8b8e-c9ce34b8dc2b",
   "metadata": {},
   "outputs": [
    {
     "name": "stdout",
     "output_type": "stream",
     "text": [
      "CV Score: 0.7672752611225162\n",
      "Train Score: 0.8069843390484673\n",
      "Test Score: 0.7735470941883767\n",
      "Best Parameters: [\"{'lr__C': 1.0, 'lr__penalty': 'l1', 'lr__solver': 'saga', 'tvec__max_df': 0.7, 'tvec__max_features': 10000, 'tvec__min_df': 3, 'tvec__ngram_range': (1, 2)}\"]\n",
      "\n",
      "\n",
      "Recall: 0.8671562082777036\n",
      "Precision: 0.7305961754780652\n",
      "F1 Score 0.793040293040293\n",
      "ROC Score: 0.7734845212511513\n",
      "\n",
      "\n"
     ]
    },
    {
     "data": {
      "image/png": "[encoded data removed]",
      "text/plain": [
       "<Figure size 432x288 with 2 Axes>"
      ]
     },
     "metadata": {
      "needs_background": "light"
     },
     "output_type": "display_data"
    }
   ],
   "source": [
    "# Tuning a model which uses l1 penalty term to double check results\n",
    "\n",
    "# Initiating a pipeline\n",
    "pipe = Pipeline([\n",
    "    ('tvec', TfidfVectorizer()),\n",
    "    ('lr', LogisticRegression(random_state = 42, max_iter=1000))\n",
    "])\n",
    "\n",
    "# Setting up pipe parameters\n",
    "pipe_params = {\n",
    "    'tvec__max_features' : [5_000, 10_000],\n",
    "    'tvec__min_df' : [2, 3],\n",
    "    'tvec__max_df': [0.7, 0.8, 0.9],\n",
    "    'tvec__ngram_range' : [(1,1), (1,2)],\n",
    "    'lr__C': np.linspace(0.01, 1, 10),\n",
    "    'lr__solver': ['saga'],\n",
    "    'lr__penalty': ['l1']\n",
    "}\n",
    "\n",
    "# Instantiating a Gridsearch\n",
    "gs = GridSearchCV(pipe, \n",
    "                  param_grid=pipe_params, \n",
    "                  cv=5,\n",
    "                  n_jobs=-1\n",
    "                 )\n",
    "\n",
    "# Fitting\n",
    "gs.fit(X_train, y_train);\n",
    "\n",
    "print('CV Score:', gs.best_score_)\n",
    "print('Train Score:', gs.score(X_train, y_train)) \n",
    "print('Test Score:', gs.score(X_test, y_test)) \n",
    "print('Best Parameters:', [str(gs.best_params_)])\n",
    "print('\\n')\n",
    "\n",
    "# Get predictions\n",
    "predictions = gs.predict(X_test)\n",
    "\n",
    "# Additional Metrics\n",
    "print('Recall:', recall_score(y_test, predictions))\n",
    "print('Precision:', precision_score(y_test, predictions))\n",
    "print('F1 Score', f1_score(y_test, predictions))\n",
    "print('ROC Score:',roc_auc_score(y_test, predictions))\n",
    "print('\\n')\n",
    "\n",
    "# Plot confusion matrix\n",
    "cm = confusion_matrix(y_test, predictions)\n",
    "disp = ConfusionMatrixDisplay(confusion_matrix=cm)\n",
    "disp.plot(cmap = 'Blues')\n",
    "plt.show();"
   ]
  },
  {
   "cell_type": "markdown",
   "id": "371432f8-f4f2-4e47-ada5-579819e3506a",
   "metadata": {},
   "source": [
    "After double checking out results, we can confirm that adding an l1 penalty term decreases the score."
   ]
  },
  {
   "cell_type": "markdown",
   "id": "18a79808-c18b-4311-881e-95a32a827e2e",
   "metadata": {},
   "source": [
    "---"
   ]
  },
  {
   "cell_type": "markdown",
   "id": "000becf1-c5cc-4894-825b-378c6c68187c",
   "metadata": {},
   "source": [
    "## 4. Model Selection"
   ]
  },
  {
   "cell_type": "markdown",
   "id": "e3e8e263-5c6c-4b76-8c1c-68ad40c07e3a",
   "metadata": {},
   "source": [
    "First, lets initiate our best tuned model."
   ]
  },
  {
   "cell_type": "code",
   "execution_count": 26,
   "id": "6d0dab21-c084-44f5-9933-46b8c45bae45",
   "metadata": {},
   "outputs": [
    {
     "name": "stdout",
     "output_type": "stream",
     "text": [
      "CV Score: 0.7731389406924227\n",
      "Train Score: 0.8454687152081942\n",
      "Test Score: 0.7842351369405478\n",
      "Best Parameters: [\"{'lr__C': 0.9, 'lr__solver': 'newton-cg', 'tvec__max_df': 0.7, 'tvec__max_features': 10000, 'tvec__min_df': 2, 'tvec__ngram_range': (1, 2)}\"]\n",
      "\n",
      "\n",
      "Recall: 0.8491321762349799\n",
      "Precision: 0.75177304964539\n",
      "F1 Score 0.7974921630094044\n",
      "ROC Score: 0.7841917565666878\n",
      "\n",
      "\n"
     ]
    },
    {
     "data": {
      "image/png": "[encoded data removed]",
      "text/plain": [
       "<Figure size 432x288 with 2 Axes>"
      ]
     },
     "metadata": {
      "needs_background": "light"
     },
     "output_type": "display_data"
    }
   ],
   "source": [
    "# Initiating a pipeline\n",
    "pipe = Pipeline([\n",
    "    ('tvec', TfidfVectorizer()),\n",
    "    ('lr', LogisticRegression(random_state = 42, max_iter=1000))\n",
    "])\n",
    "\n",
    "# Setting up pipe parameters\n",
    "pipe_params = {\n",
    "    'tvec__max_features' : [10_000],\n",
    "    'tvec__min_df' : [2],\n",
    "    'tvec__max_df': [0.7],\n",
    "    'tvec__ngram_range' : [(1,2)],\n",
    "    'lr__C': [0.9],\n",
    "    'lr__solver': ['newton-cg']\n",
    "}\n",
    "\n",
    "# Instantiating a Gridsearch\n",
    "gs = GridSearchCV(pipe, \n",
    "                  param_grid=pipe_params, \n",
    "                  cv=5,\n",
    "                  n_jobs=-1\n",
    "                 )\n",
    "\n",
    "# Fitting\n",
    "gs.fit(X_train, y_train);\n",
    "\n",
    "print('CV Score:', gs.best_score_)\n",
    "print('Train Score:', gs.score(X_train, y_train)) \n",
    "print('Test Score:', gs.score(X_test, y_test)) \n",
    "print('Best Parameters:', [str(gs.best_params_)])\n",
    "print('\\n')\n",
    "\n",
    "# Get predictions\n",
    "predictions = gs.predict(X_test)\n",
    "\n",
    "# Additional Metrics\n",
    "print('Recall:', recall_score(y_test, predictions))\n",
    "print('Precision:', precision_score(y_test, predictions))\n",
    "print('F1 Score', f1_score(y_test, predictions))\n",
    "print('ROC Score:',roc_auc_score(y_test, predictions))\n",
    "print('\\n')\n",
    "\n",
    "# Plot confusion matrix\n",
    "cm = confusion_matrix(y_test, predictions)\n",
    "disp = ConfusionMatrixDisplay(confusion_matrix=cm)\n",
    "disp.plot(cmap = 'Blues')\n",
    "plt.show();"
   ]
  },
  {
   "cell_type": "code",
   "execution_count": 41,
   "id": "1b523001-3795-42ce-a992-692abb6ce14a",
   "metadata": {},
   "outputs": [],
   "source": [
    "#Extracting the coefficients for the features in the model\n",
    "coef = []\n",
    "for x,y in zip(gs.best_estimator_[0].get_feature_names_out(), gs.best_estimator_[1].coef_.tolist()[0]):\n",
    "    coef.append([x, y])\n",
    "lr_coef = pd.DataFrame(coef, columns = ['Words', 'LR Coef'])"
   ]
  },
  {
   "cell_type": "code",
   "execution_count": 53,
   "id": "714f1b6c-1d5c-4377-a2a1-54352caea1be",
   "metadata": {},
   "outputs": [],
   "source": [
    "# Extracting top coefficients for PS5\n",
    "ps5_coef = lr_coef.sort_values('LR Coef', ascending=False).head(15)"
   ]
  },
  {
   "cell_type": "code",
   "execution_count": 54,
   "id": "113c1b41-61e1-4d3f-a925-81a12b7a574e",
   "metadata": {},
   "outputs": [
    {
     "data": {
      "image/png": "[encoded data removed]",
      "text/plain": [
       "<Figure size 720x360 with 1 Axes>"
      ]
     },
     "metadata": {
      "needs_background": "light"
     },
     "output_type": "display_data"
    }
   ],
   "source": [
    "# Plotting barplot to visualize results\n",
    "plt.figure(figsize = (10,5))\n",
    "sns.barplot(x=ps5_coef['LR Coef'], y=ps5_coef['Words'], palette='crest').set(title='Top Coefficients - PS5');"
   ]
  },
  {
   "cell_type": "markdown",
   "id": "e729d61c-756f-4b43-987b-134d00c420f5",
   "metadata": {},
   "source": [
    "The words with the highest coefficients are mostly brand specific, which makes sense as these words should mainly be in the PS5 subreddit.\n",
    "<br><br>\n",
    "A few examples are:\n",
    "- `dualsense` : Dualsense controllers\n",
    "- `psn` : PlayStation Network\n",
    "- `pulse` : Pulse 3D wireless headset\n",
    "- `returnal` : A PS5 exclusive game"
   ]
  },
  {
   "cell_type": "markdown",
   "id": "0f356f59-4987-457e-bfb7-d18936568dd2",
   "metadata": {},
   "source": [
    "It is interesting to see the words `xbox series` in this graph. This might be because of the high volume of posts comparing the two consoles on the PS5 subreddit. This also explains the slightly higher amount of false positives when compared to false negatives."
   ]
  },
  {
   "cell_type": "code",
   "execution_count": 55,
   "id": "a839fed9-0f9f-4058-a0b1-511e93540652",
   "metadata": {},
   "outputs": [],
   "source": [
    "# Extracting top coefficients for Xbox\n",
    "xbox_coef = lr_coef.sort_values('LR Coef', ascending=True).head(15)"
   ]
  },
  {
   "cell_type": "code",
   "execution_count": 56,
   "id": "f36cce1b-caeb-4273-89fb-8ba73d7e66ca",
   "metadata": {},
   "outputs": [
    {
     "data": {
      "image/png": "[encoded data removed]",
      "text/plain": [
       "<Figure size 720x360 with 1 Axes>"
      ]
     },
     "metadata": {
      "needs_background": "light"
     },
     "output_type": "display_data"
    }
   ],
   "source": [
    "# Plotting barplot to visualize results\n",
    "plt.figure(figsize = (10,5))\n",
    "sns.barplot(x=-xbox_coef['LR Coef'], y=xbox_coef['Words'], palette='flare').set(title='Top Coefficients - Xbox');"
   ]
  },
  {
   "cell_type": "markdown",
   "id": "f00800c3-70a4-41e9-b9f1-448e5b0e6e28",
   "metadata": {},
   "source": [
    "The words with the highest coefficients are mostly brand specific too, similar to the ones for PS5.\n",
    "\n",
    "A few examples are:\n",
    "\n",
    "- `gamepass` : Game subcription service for Xbox\n",
    "- `halo`, `starfield`, `forza`, `crossfirex`:  Xbox exclusive games\n",
    "- `elite`: Elite wireless controllers\n"
   ]
  },
  {
   "cell_type": "markdown",
   "id": "e829a6c0-fd37-4fa7-ab1a-ba0fbbb8462e",
   "metadata": {},
   "source": [
    "---"
   ]
  },
  {
   "cell_type": "markdown",
   "id": "d71006e3-e975-4ebe-866d-ef09d73186af",
   "metadata": {},
   "source": [
    "## 5. Conclusion"
   ]
  },
  {
   "cell_type": "markdown",
   "id": "24c84266-9927-47ac-8547-bf8380182d3c",
   "metadata": {},
   "source": [
    "### 5.1 Insights"
   ]
  },
  {
   "cell_type": "markdown",
   "id": "01a7cfdb-cb1e-4c94-b54a-0d9e6b0cc7b5",
   "metadata": {},
   "source": [
    "Our final model has a 78.4% rate of success of classifying a thread correctly. But, more can be done to increase the accuracy and hence the predictive strength of the model. \n",
    "\n",
    "Game store to focus more on trending topics/products identified:\n",
    "\n",
    "- Console: PS5\n",
    "- Game Titles(PS5): Elden Ring, Final Fantasy, Horizon Forbidden West, Gran Turismo\n",
    "- Game Titles(Xbox): Elden Ring, Halo Infinite, Dying Light\n",
    "- Hardware: Controllers\n",
    "\n",
    "A possible expansion on this would be to identify emotions and sentiments on these topics, to ensure proper treatment.\n"
   ]
  },
  {
   "cell_type": "markdown",
   "id": "77a2f3dd-9f55-4916-b610-8dad19723a7a",
   "metadata": {},
   "source": [
    "### 5.2 Limitations"
   ]
  },
  {
   "cell_type": "markdown",
   "id": "c72fd57b-77f9-4645-ba64-4230020c1af5",
   "metadata": {},
   "source": [
    "Our model might not be able to classify as accurately as required because both PS5 and Xbox are similar products. Both subreddits we used contain similar top words (i.e. `game`, `play`, `elden ring`), and we can expect the same results on other platforms.\n",
    "\n",
    "Model selection wise, some of the limitations were mostly related to time and resource constraints whereby using a GridSearchCV with all the hyper parameters for tuning is not feasible. As such, some variations with better accuracy scores may have been missed out. We can explore the option of using Cloud GPUs to speed up processing times in the future.\n",
    "\n",
    "Although Logistic regression is easily interpretable, it has some assumptions:\n",
    "- Linearity between the features and the logit of the probability when Y=1\n",
    "- Features are independent of each other"
   ]
  },
  {
   "cell_type": "markdown",
   "id": "f5934c75-be1f-422c-908a-8a4f58522791",
   "metadata": {},
   "source": [
    "### 5.3 Possible Future Direction"
   ]
  },
  {
   "cell_type": "markdown",
   "id": "15f94499-2e2a-425c-a2d3-3a33a61a8eea",
   "metadata": {},
   "source": [
    "- Further customize stopwords list, i.e. adding top few common words that appear in both subreddits\n",
    "- Use autoML libraries to gain access to wider varieties of models\n",
    "- Utilising cloud GPU services to speed up processing time\n",
    "- Run sentiment and emotion analysis to gain further insights on trending topics.\n",
    "- Automate the process so that frequent market analysis can be done in order to revise marketing strategies."
   ]
  },
  {
   "cell_type": "markdown",
   "id": "76f46ce4-d421-489a-90c3-29651b304c70",
   "metadata": {},
   "source": [
    "---"
   ]
  }
 ],
 "metadata": {
  "kernelspec": {
   "display_name": "Python 3 (ipykernel)",
   "language": "python",
   "name": "python3"
  },
  "language_info": {
   "codemirror_mode": {
    "name": "ipython",
    "version": 3
   },
   "file_extension": ".py",
   "mimetype": "text/x-python",
   "name": "python",
   "nbconvert_exporter": "python",
   "pygments_lexer": "ipython3",
   "version": "3.9.12"
  }
 },
 "nbformat": 4,
 "nbformat_minor": 5
}
